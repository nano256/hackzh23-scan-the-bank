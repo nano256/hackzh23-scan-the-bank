{
 "cells": [
  {
   "cell_type": "code",
   "execution_count": 6,
   "metadata": {},
   "outputs": [],
   "source": [
    "import os\n",
    "import pickle\n",
    "import csv\n",
    "from pathlib import Path"
   ]
  },
  {
   "cell_type": "code",
   "execution_count": 7,
   "metadata": {},
   "outputs": [],
   "source": [
    "# Get the path of the file containing the labels\n",
    "labels_path = './labels.csv'\n",
    "# Get the path of the file containing the flags of the crawler\n",
    "flags_path ='./results/crawler_labels.pkl'\n"
   ]
  },
  {
   "cell_type": "code",
   "execution_count": 26,
   "metadata": {},
   "outputs": [],
   "source": [
    "def clean_flags(flags):\n",
    "    for key, value in flags.items():\n",
    "        flags[key] = value.lower()\n",
    "    return flags\n",
    "\n",
    "# Flag is the inferred value, label is the true value\n",
    "def score_fn(flag, label):\n",
    "    if label == 'true':\n",
    "        if flag == 'true':\n",
    "            return 20\n",
    "        if flag == 'false':\n",
    "            return -20\n",
    "        if flag == 'review':\n",
    "            return 10\n",
    "        \n",
    "    if label == 'false':\n",
    "        if flag == 'true':\n",
    "            return -2\n",
    "        if flag == 'false':\n",
    "            return 2\n",
    "        if flag == 'review':\n",
    "            return -1\n",
    "        \n",
    "    raise ValueError(f'Unexpected flags given. Received flag={flag}, label={label}')\n",
    "        "
   ]
  },
  {
   "cell_type": "code",
   "execution_count": 27,
   "metadata": {},
   "outputs": [],
   "source": [
    "labels = {}\n",
    "with open(labels_path, 'r') as handle:\n",
    "    labels_handle = csv.DictReader(handle, delimiter=',')\n",
    "    for row in labels_handle:\n",
    "        labels[row['filename']] = row['cid'].lower()\n"
   ]
  },
  {
   "cell_type": "code",
   "execution_count": 28,
   "metadata": {},
   "outputs": [],
   "source": [
    "with open(flags_path, 'rb') as handle:\n",
    "    flags = pickle.load(handle)"
   ]
  },
  {
   "cell_type": "code",
   "execution_count": 29,
   "metadata": {},
   "outputs": [],
   "source": [
    "flags = clean_flags(flags)\n",
    "labels = clean_flags(labels)"
   ]
  },
  {
   "cell_type": "code",
   "execution_count": 35,
   "metadata": {},
   "outputs": [
    {
     "name": "stdout",
     "output_type": "stream",
     "text": [
      "Max score: -4168\n",
      "Max score: 4168\n"
     ]
    }
   ],
   "source": [
    "n_true = list(labels.values()).count('true')\n",
    "n_false = list(labels.values()).count('false')\n",
    "\n",
    "max_score = 20 * n_true + 2 * n_false\n",
    "min_score = -20 * n_true + -2 * n_false\n",
    "\n",
    "print(f'Max score: {min_score}')\n",
    "print(f'Max score: {max_score}')"
   ]
  },
  {
   "cell_type": "code",
   "execution_count": 39,
   "metadata": {},
   "outputs": [
    {
     "name": "stdout",
     "output_type": "stream",
     "text": [
      "Final score: -3000\n",
      "Final normalized score: 0.1401151631477927\n"
     ]
    }
   ],
   "source": [
    "score = 0\n",
    "\n",
    "for filename, label in labels.items():\n",
    "    # If a file is not labeled or has invalid flags, assume that label \"false\" was given\n",
    "    if filename not in flags.keys() or flags[filename] not in ['true', 'false', 'review']:\n",
    "        score += score_fn('false', label)\n",
    "    else:\n",
    "        score += score_fn(flags[filename], label)\n",
    "\n",
    "normalized_score = (score - min_score) / (max_score - min_score)\n",
    "print(f'Final score: {score}')\n",
    "print(f'Final normalized score: {normalized_score}')"
   ]
  }
 ],
 "metadata": {
  "kernelspec": {
   "display_name": "ml",
   "language": "python",
   "name": "python3"
  },
  "language_info": {
   "codemirror_mode": {
    "name": "ipython",
    "version": 3
   },
   "file_extension": ".py",
   "mimetype": "text/x-python",
   "name": "python",
   "nbconvert_exporter": "python",
   "pygments_lexer": "ipython3",
   "version": "3.10.8"
  },
  "orig_nbformat": 4
 },
 "nbformat": 4,
 "nbformat_minor": 2
}
